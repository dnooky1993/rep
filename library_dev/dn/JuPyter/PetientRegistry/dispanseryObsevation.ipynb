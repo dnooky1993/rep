{
 "cells": [
  {
   "attachments": {},
   "cell_type": "markdown",
   "metadata": {},
   "source": [
    "<style>\n",
    "a {\n",
    "  vertical-align: middle;\n",
    "  background-color: rgb(240, 240, 240);\n",
    "  border-radius: 15px;\n",
    "  color: black;\n",
    "  padding: 5px 15px;\n",
    "  text-align: center;\n",
    "  text-decoration: none;\n",
    "  display: inline-block;\n",
    "  font-size: 18px;\n",
    "  cursor: pointer;\n",
    "}\n",
    "a:hover {\n",
    "  background-color: #ddd;\n",
    "  color: black;\n",
    "  text-decoration: none;\n",
    "}\n",
    "img {\n",
    "  display: inline-block;\n",
    "  vertical-align: middle;\n",
    "  margin-left: auto;\n",
    "  margin-right: auto;\n",
    "  height: 25px;\n",
    "  padding: 0px 10px 0px 0px;\n",
    "  margin: 0px 0px 0px -5px;\n",
    "}\n",
    "</style>\n",
    "\n",
    "<a href=\"https://testit.solit-clouds.ru/projects/66942/tests?isolatedSection=d47ec5c6-279a-476e-8b6a-70ef3f2ce239\"><img src=\"https://docs.testit.software/images/testit_logo_icon.png\" alt=\"открыть Colab\">TestIT</a>\n",
    "<a href=\"https://wiki.mos.social/pages/viewpage.action?pageId=161678183\" target=\"_blank\" rel=\"nofollow\"><img src=\"https://cdn-icons-png.flaticon.com/512/5968/5968793.png\" alt=\"открыть wiki backend\">wiki</a>"
   ]
  },
  {
   "cell_type": "code",
   "execution_count": 1,
   "metadata": {},
   "outputs": [
    {
     "name": "stdout",
     "output_type": "stream",
     "text": [
      "67038618\n"
     ]
    }
   ],
   "source": [
    "from main.object import Elastic\n",
    "\n",
    "ElasticClass = Elastic()\n",
    "patientId = ElasticClass.check_find_patient()\n",
    "print(patientId)"
   ]
  },
  {
   "cell_type": "code",
   "execution_count": 2,
   "metadata": {},
   "outputs": [
    {
     "name": "stdout",
     "output_type": "stream",
     "text": [
      "<class 'dict'>\n",
      "{\"operationType\": \"new\", \"basisTaskType\": \"DIGITIZED_DOCUMENT\", \"patientId\": 67038618, \"groupCode\": \"DNA0011\", \"groupName\": \"Болезни желудка и двенадцатиперстной кишки\", \"groupSpecializationCode\": \"8\", \"groupSpecializationName\": \"Терапия\", \"doctorFIO\": \"Липатова Татьяна Владимировна\", \"employeeId\": 15246, \"noDoctor\": true, \"specialityCode\": \"602\", \"specialityName\": \"Врач-терапевт участковый\", \"specializationCode\": \"76\", \"specializationName\": \"Терапия\", \"diagnosisCode\": \"I10\", \"diagnosisName\": \"Туберкулезный плеврит без упоминания о бактериологическом или гистологическом подтверждении\", \"diagnosisDate\": \"2023-03-07T11:45:06.467\", \"diagnosisProactive\": true, \"diagnosisObservationPeriod\": \"12\", \"repeat\": \"острое (+), впервые в жизни установленное хроническое (+)\", \"startDate\": \"2022-12-07\", \"endDate\": null, \"cancelReasonCode\": null, \"cancelReasonName\": null, \"timeCommitted\": \"2023-03-16T15:00:58+03:00\", \"dnDoctorJobExecutionId\": \"11312201\"}\n",
      "<class 'str'>\n"
     ]
    }
   ],
   "source": [
    "from main.ways import *\n",
    "from main.object import MainFunction\n",
    "import json\n",
    "\n",
    " \n",
    "main_func = MainFunction()\n",
    "\n",
    "# Открываем файл с сообщением\n",
    "message_text = main_func.serialized_message(PathToFile.dispensaryObservationDNTrigger_new)\n",
    "print(type(message_text))\n",
    "\n",
    "# Меняем ID пациента \n",
    "message_text['patientId'] = patientId\n",
    "# Конвертим словарь в JSON \n",
    "message = json.dumps(message_text, ensure_ascii=False)\n",
    "print(message)\n",
    "print(type(message))"
   ]
  },
  {
   "cell_type": "code",
   "execution_count": 3,
   "metadata": {},
   "outputs": [
    {
     "name": "stderr",
     "output_type": "stream",
     "text": [
      "INFO:kafka.conn:<BrokerConnection node_id=bootstrap-0 host=10.2.172.24:9092 <connecting> [IPv4 ('10.2.172.24', 9092)]>: connecting to 10.2.172.24:9092 [('10.2.172.24', 9092) IPv4]\n",
      "INFO:kafka.conn:Probing node bootstrap-0 broker version\n",
      "INFO:kafka.conn:<BrokerConnection node_id=bootstrap-0 host=10.2.172.24:9092 <connecting> [IPv4 ('10.2.172.24', 9092)]>: Connection complete.\n",
      "INFO:kafka.conn:Broker version identified as 2.5.0\n",
      "INFO:kafka.conn:Set configuration api_version=(2, 5, 0) to skip auto check_version requests on startup\n",
      "INFO:kafka.conn:<BrokerConnection node_id=3 host=10.2.173.39:9092 <connecting> [IPv4 ('10.2.173.39', 9092)]>: connecting to 10.2.173.39:9092 [('10.2.173.39', 9092) IPv4]\n",
      "INFO:kafka.conn:<BrokerConnection node_id=3 host=10.2.173.39:9092 <connecting> [IPv4 ('10.2.173.39', 9092)]>: Connection complete.\n",
      "INFO:kafka.conn:<BrokerConnection node_id=bootstrap-0 host=10.2.172.24:9092 <connected> [IPv4 ('10.2.172.24', 9092)]>: Closing connection. \n",
      "INFO:kafka.conn:<BrokerConnection node_id=3 host=10.2.173.39:9092 <connected> [IPv4 ('10.2.173.39', 9092)]>: Closing connection. \n"
     ]
    }
   ],
   "source": [
    "from main.object import Kafka\n",
    "from main.topics import Topic\n",
    "\n",
    "KafkaClass = Kafka()\n",
    "TopicClass = Topic()\n",
    "\n",
    "KafkaClass.send_message_to_kafka(TopicClass.DN_FORM_30_TO_DISP, message)\n"
   ]
  },
  {
   "cell_type": "code",
   "execution_count": 5,
   "metadata": {},
   "outputs": [
    {
     "name": "stdout",
     "output_type": "stream",
     "text": [
      "<class 'dict'>\n",
      "{'took': 4655, 'timed_out': False, '_shards': {'total': 16, 'successful': 16, 'skipped': 0, 'failed': 0}, 'hits': {'max_score': 16.213476, 'hits': [{'_index': 'default_registry', '_type': '_doc', '_id': '67038618_unknown', '_score': 16.213476, '_routing': 'unknown', '_source': {'updated': '2023-04-17T13:04:48.330341+03:00', 'patientId': '67038618', 'groupId': 'unknown', 'data': {'dispensaryObservation': {'updated': '2023-04-17T13:04:48.330332+03:00', 'dispensaryObservations': [{'doctor': {'speciality': {'code': '602', 'name': 'Врач-терапевт участковый'}, 'changeDate': '2023-03-16T15:00:58+03:00', 'noDoctor': True, 'specialization': {'code': '76', 'name': 'Терапия'}, 'employeeId': 15246, 'dnDoctorJobExecutionId': '11312201', 'fio': 'Липатова Татьяна Владимировна'}, 'groupName': 'Болезни желудка и двенадцатиперстной кишки', 'groupSpecializationName': 'Терапия', 'groupSpecializationCode': '8', 'basisTaskType': 'DIGITIZED_DOCUMENT', 'timeCommitted': '2023-03-16T15:00:58+03:00', 'diagnosis': {'diagnosisObservationExpirationDate': '2025-02-09T08:45:06.467', 'code': 'I10', 'diagnosisDate': '2023-03-07T11:45:06.467', 'diagnosisProactive': True, 'repeat': 'острое (+), впервые в жизни установленное хроническое (+)', 'name': 'Туберкулезный плеврит без упоминания о бактериологическом или гистологическом подтверждении', 'diagnosisChangeDate': '2023-03-07T11:45:06.467'}, 'active': True, 'startDate': '2022-12-07', 'groupCode': 'DNA0011'}], 'dispensaryObservationUpdateDate': '2023-04-17T10:04:48.329Z', 'ndispensaryObservations': [{'groupSpecializationName': 'Терапия', 'groupSpecializationCode': '8', 'basisTaskType': 'DIGITIZED_DOCUMENT', 'diagnosis': {'diagnosisObservationExpirationDate': '2025-02-09T08:45:06.467', 'code': 'I10', 'diagnosisDate': '2023-03-07T11:45:06.467', 'diagnosisProactive': True, 'diagnosisChangeDate': '2023-03-07T11:45:06.467'}, 'active': True, 'doctor': {'changeDate': '2023-03-16T15:00:58+03:00', 'noDoctor': True, 'specialization': {'code': '76', 'name': 'Терапия'}, 'employeeId': 15246, 'dnDoctorJobExecutionId': '11312201', 'fio': 'Липатова Татьяна Владимировна'}, 'groupName': 'Болезни желудка и двенадцатиперстной кишки', 'startDate': '2022-12-07', 'groupCode': 'DNA0011'}]}}}}]}}\n",
      "['updated', 'dispensaryObservations', 'dispensaryObservationUpdateDate', 'ndispensaryObservations']\n"
     ]
    }
   ],
   "source": [
    "from main.object import Elastic\n",
    "import json\n",
    "\n",
    "ElasticClass = Elastic()\n",
    "# Поиск пациента в эластике \n",
    "response = ElasticClass.check_patient_PR(patientId)\n",
    "\n",
    "# Лог принтом\n",
    "print(type(response))\n",
    "print(response)\n",
    "\n",
    "keys_list = list(response['hits']['hits'][0]['_source']['data']['dispensaryObservation'].keys())\n",
    "# Лог принтом\n",
    "print(keys_list)\n",
    "\n",
    "# Проверки\n",
    "assert 'dispensaryObservations' in keys_list"
   ]
  }
 ],
 "metadata": {
  "kernelspec": {
   "display_name": "Python 3",
   "language": "python",
   "name": "python3"
  },
  "language_info": {
   "codemirror_mode": {
    "name": "ipython",
    "version": 3
   },
   "file_extension": ".py",
   "mimetype": "text/x-python",
   "name": "python",
   "nbconvert_exporter": "python",
   "pygments_lexer": "ipython3",
   "version": "3.9.1"
  },
  "orig_nbformat": 4
 },
 "nbformat": 4,
 "nbformat_minor": 2
}
